{
 "cells": [
  {
   "attachments": {},
   "cell_type": "markdown",
   "id": "0f5c937a",
   "metadata": {},
   "source": [
    "# Visualization of feature selection sequence\n",
    "- Updated 2023.05.09\n",
    "- Written by shyeon"
   ]
  },
  {
   "cell_type": "code",
   "execution_count": null,
   "id": "47e9f2f3",
   "metadata": {},
   "outputs": [],
   "source": [
    "import os\n",
    "from pathlib import Path\n",
    "\n",
    "curr_path = Path().absolute()\n",
    "os.chdir(curr_path.parent)  # change working directory to parent path"
   ]
  },
  {
   "cell_type": "code",
   "execution_count": null,
   "id": "a169ec5a",
   "metadata": {},
   "outputs": [],
   "source": [
    "import asyncio\n",
    "import time\n",
    "import nest_asyncio\n",
    "from pathlib import Path\n",
    "from playwright.async_api import async_playwright\n",
    "\n",
    "from src.utils.logger import get_logger\n",
    "\n",
    "nest_asyncio.apply()\n",
    "logger = get_logger()"
   ]
  },
  {
   "cell_type": "code",
   "execution_count": null,
   "id": "1646f86d",
   "metadata": {},
   "outputs": [],
   "source": [
    "async def html2ani(source_path: Path) -> None:\n",
    "    png_path = Path().cwd() / \"data\" / \"visualization\" / \"png\"\n",
    "    logger.info(\"Converting HTML to PNG\")\n",
    "    html_files = source_path.glob(\"*.html\")\n",
    "    for html in html_files:\n",
    "        pw = await async_playwright().start()\n",
    "        browser = await pw.chromium.launch(headless=False, args=[\"--start-maximized\"])\n",
    "        page = await browser.new_page()\n",
    "        await page.goto(\n",
    "            f\"file://{html}\",\n",
    "            timeout=60000,\n",
    "            wait_until=\"networkidle\",\n",
    "        )\n",
    "        time.sleep(0.5)\n",
    "        temp_file = png_path / f\"{html.stem}.png\"\n",
    "        await page.screenshot(path=temp_file, full_page=True)\n",
    "        await browser.close()\n",
    "    # logger.info(\"Converting PNG to animated GIF\")\n",
    "    # png_files = [str(path) for path in png_path.glob(\"*.png\")]\n",
    "    # pngs = [Image.open(png) for png in sorted(png_files)]\n",
    "    # imageio.mimsave(save_file, pngs, \"GIF\", fps=2)\n",
    "    # logger.info(\"finished.\")"
   ]
  },
  {
   "cell_type": "code",
   "execution_count": null,
   "id": "ff54c947",
   "metadata": {},
   "outputs": [],
   "source": [
    "await html2ani(Path().cwd() / \"data\" / \"visualization\" / \"html\")"
   ]
  }
 ],
 "metadata": {
  "kernelspec": {
   "display_name": "graph",
   "language": "python",
   "name": "python3"
  },
  "language_info": {
   "codemirror_mode": {
    "name": "ipython",
    "version": 3
   },
   "file_extension": ".py",
   "mimetype": "text/x-python",
   "name": "python",
   "nbconvert_exporter": "python",
   "pygments_lexer": "ipython3",
   "version": "3.11.3"
  },
  "vscode": {
   "interpreter": {
    "hash": "149b880323cb511abb378ca8a7f1ace7211f133ce014a578336d1234f1f242ee"
   }
  }
 },
 "nbformat": 4,
 "nbformat_minor": 5
}
