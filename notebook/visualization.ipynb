{
 "cells": [
  {
   "attachments": {},
   "cell_type": "markdown",
   "id": "0f5c937a",
   "metadata": {},
   "source": [
    "# Visualization of feature selection sequence\n",
    "- Updated 2023.02.09\n",
    "- Written by shyeon"
   ]
  },
  {
   "cell_type": "code",
   "execution_count": null,
   "id": "47e9f2f3",
   "metadata": {},
   "outputs": [],
   "source": [
    "import os\n",
    "from pathlib import Path\n",
    "\n",
    "curr_path = Path().absolute()\n",
    "os.chdir(curr_path.parent)  # change working directory to parent path"
   ]
  },
  {
   "cell_type": "code",
   "execution_count": null,
   "id": "02c8f85a",
   "metadata": {},
   "outputs": [],
   "source": [
    "from playwright.sync_api import sync_playwright\n",
    "\n",
    "with sync_playwright() as p:\n",
    "    browser = p.chromium.launch()\n",
    "    page = browser.new_page()\n",
    "    page.goto(\"/home/shyeon/workspace/ds/graph-study/data/visual/nx_origin.html\")\n",
    "    page.screenshot(path=\"screenshot.png\")\n",
    "    browser.close()"
   ]
  }
 ],
 "metadata": {
  "kernelspec": {
   "display_name": "graph",
   "language": "python",
   "name": "python3"
  },
  "language_info": {
   "codemirror_mode": {
    "name": "ipython",
    "version": 3
   },
   "file_extension": ".py",
   "mimetype": "text/x-python",
   "name": "python",
   "nbconvert_exporter": "python",
   "pygments_lexer": "ipython3",
   "version": "3.10.9 (main, Feb  5 2023, 07:36:34) [GCC 11.3.0]"
  },
  "vscode": {
   "interpreter": {
    "hash": "149b880323cb511abb378ca8a7f1ace7211f133ce014a578336d1234f1f242ee"
   }
  }
 },
 "nbformat": 4,
 "nbformat_minor": 5
}
