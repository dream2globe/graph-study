{
 "cells": [
  {
   "attachments": {},
   "cell_type": "markdown",
   "id": "0f5c937a",
   "metadata": {},
   "source": [
    "# Building a Regression Model in PyTorch\n",
    "- Updated 2023.04.21\n",
    "- Written by shyeon"
   ]
  },
  {
   "cell_type": "markdown",
   "id": "83c1a60f",
   "metadata": {},
   "source": [
    "## Initialize setting"
   ]
  },
  {
   "attachments": {},
   "cell_type": "markdown",
   "id": "b53ee5e6",
   "metadata": {},
   "source": [
    "- Project path "
   ]
  },
  {
   "cell_type": "code",
   "execution_count": 1,
   "id": "aa7bf72b",
   "metadata": {},
   "outputs": [],
   "source": [
    "import os\n",
    "from pathlib import Path\n",
    "\n",
    "curr_path = Path().absolute()\n",
    "os.chdir(curr_path.parent)  # change working directory to parent path"
   ]
  },
  {
   "attachments": {},
   "cell_type": "markdown",
   "id": "94f468cf",
   "metadata": {},
   "source": [
    "- Packages"
   ]
  },
  {
   "cell_type": "code",
   "execution_count": 13,
   "id": "00351e08",
   "metadata": {},
   "outputs": [],
   "source": [
    "import pickle\n",
    "\n",
    "import numpy as np\n",
    "import pandas as pd\n",
    "import torch\n",
    "from sklearn.model_selection import train_test_split\n",
    "from sklearn.preprocessing import StandardScaler\n",
    "from torch import nn\n",
    "from torch.utils.data import DataLoader, Dataset\n",
    "from torchvision import datasets, transforms\n",
    "\n",
    "from src.models.rank import radiorank\n",
    "from src.utils.graph import build_nx_graph"
   ]
  },
  {
   "cell_type": "markdown",
   "id": "5edf809b",
   "metadata": {},
   "source": [
    "- Parameters"
   ]
  },
  {
   "cell_type": "code",
   "execution_count": 3,
   "id": "e690f0fb",
   "metadata": {},
   "outputs": [],
   "source": [
    "random_seed = 42"
   ]
  },
  {
   "attachments": {},
   "cell_type": "markdown",
   "id": "1384fd6a",
   "metadata": {},
   "source": [
    "\n",
    "## Data Loader"
   ]
  },
  {
   "attachments": {},
   "cell_type": "markdown",
   "id": "2ffc2e2f",
   "metadata": {},
   "source": [
    "- Prepare train dataset"
   ]
  },
  {
   "cell_type": "code",
   "execution_count": 4,
   "id": "31d19859",
   "metadata": {},
   "outputs": [
    {
     "data": {
      "text/html": [
       "<div>\n",
       "<style scoped>\n",
       "    .dataframe tbody tr th:only-of-type {\n",
       "        vertical-align: middle;\n",
       "    }\n",
       "\n",
       "    .dataframe tbody tr th {\n",
       "        vertical-align: top;\n",
       "    }\n",
       "\n",
       "    .dataframe thead th {\n",
       "        text-align: right;\n",
       "    }\n",
       "</style>\n",
       "<table border=\"1\" class=\"dataframe\">\n",
       "  <thead>\n",
       "    <tr style=\"text-align: right;\">\n",
       "      <th></th>\n",
       "      <th>0</th>\n",
       "      <th>1</th>\n",
       "      <th>2</th>\n",
       "      <th>3</th>\n",
       "      <th>4</th>\n",
       "      <th>5</th>\n",
       "      <th>6</th>\n",
       "      <th>7</th>\n",
       "      <th>8</th>\n",
       "      <th>9</th>\n",
       "      <th>...</th>\n",
       "      <th>56</th>\n",
       "      <th>57</th>\n",
       "      <th>58</th>\n",
       "      <th>59</th>\n",
       "      <th>60</th>\n",
       "      <th>61</th>\n",
       "      <th>62</th>\n",
       "      <th>63</th>\n",
       "      <th>64</th>\n",
       "      <th>65</th>\n",
       "    </tr>\n",
       "  </thead>\n",
       "  <tbody>\n",
       "    <tr>\n",
       "      <th>0</th>\n",
       "      <td>-0.811939</td>\n",
       "      <td>0.110734</td>\n",
       "      <td>0.449351</td>\n",
       "      <td>0.476192</td>\n",
       "      <td>0.459512</td>\n",
       "      <td>-0.376119</td>\n",
       "      <td>0.353364</td>\n",
       "      <td>0.045816</td>\n",
       "      <td>-1.366235</td>\n",
       "      <td>1.311278</td>\n",
       "      <td>...</td>\n",
       "      <td>-0.496838</td>\n",
       "      <td>-0.053573</td>\n",
       "      <td>-0.929236</td>\n",
       "      <td>-0.198702</td>\n",
       "      <td>-1.021761</td>\n",
       "      <td>-1.965713</td>\n",
       "      <td>0.201812</td>\n",
       "      <td>-1.113875</td>\n",
       "      <td>-0.478792</td>\n",
       "      <td>-0.832434</td>\n",
       "    </tr>\n",
       "    <tr>\n",
       "      <th>1</th>\n",
       "      <td>-0.806638</td>\n",
       "      <td>-0.015902</td>\n",
       "      <td>-0.037221</td>\n",
       "      <td>0.300948</td>\n",
       "      <td>-0.430587</td>\n",
       "      <td>-0.641422</td>\n",
       "      <td>-0.146184</td>\n",
       "      <td>-0.001298</td>\n",
       "      <td>-0.234221</td>\n",
       "      <td>-0.935857</td>\n",
       "      <td>...</td>\n",
       "      <td>-1.444850</td>\n",
       "      <td>0.168023</td>\n",
       "      <td>0.521519</td>\n",
       "      <td>0.409202</td>\n",
       "      <td>-0.801954</td>\n",
       "      <td>0.090127</td>\n",
       "      <td>-0.395164</td>\n",
       "      <td>0.540528</td>\n",
       "      <td>-1.678826</td>\n",
       "      <td>-0.832434</td>\n",
       "    </tr>\n",
       "    <tr>\n",
       "      <th>2</th>\n",
       "      <td>-0.589281</td>\n",
       "      <td>-0.323446</td>\n",
       "      <td>-0.454284</td>\n",
       "      <td>-0.075504</td>\n",
       "      <td>-0.863821</td>\n",
       "      <td>-0.614212</td>\n",
       "      <td>-0.266764</td>\n",
       "      <td>0.030111</td>\n",
       "      <td>0.143118</td>\n",
       "      <td>-1.688823</td>\n",
       "      <td>...</td>\n",
       "      <td>-1.874139</td>\n",
       "      <td>0.957459</td>\n",
       "      <td>-0.209662</td>\n",
       "      <td>1.321059</td>\n",
       "      <td>-0.163466</td>\n",
       "      <td>-0.266498</td>\n",
       "      <td>-1.495838</td>\n",
       "      <td>0.143858</td>\n",
       "      <td>-0.429995</td>\n",
       "      <td>-0.832434</td>\n",
       "    </tr>\n",
       "    <tr>\n",
       "      <th>3</th>\n",
       "      <td>-0.652898</td>\n",
       "      <td>-0.902351</td>\n",
       "      <td>-0.732325</td>\n",
       "      <td>-0.763502</td>\n",
       "      <td>-1.651519</td>\n",
       "      <td>-1.233252</td>\n",
       "      <td>-1.222795</td>\n",
       "      <td>-0.935732</td>\n",
       "      <td>0.897794</td>\n",
       "      <td>-0.606434</td>\n",
       "      <td>...</td>\n",
       "      <td>0.558496</td>\n",
       "      <td>0.818961</td>\n",
       "      <td>-0.453389</td>\n",
       "      <td>-0.008732</td>\n",
       "      <td>-0.487943</td>\n",
       "      <td>-0.434322</td>\n",
       "      <td>0.882737</td>\n",
       "      <td>-0.514033</td>\n",
       "      <td>-0.502287</td>\n",
       "      <td>-0.832434</td>\n",
       "    </tr>\n",
       "    <tr>\n",
       "      <th>4</th>\n",
       "      <td>-0.758925</td>\n",
       "      <td>-0.522444</td>\n",
       "      <td>-0.852389</td>\n",
       "      <td>-0.542823</td>\n",
       "      <td>-1.202531</td>\n",
       "      <td>-0.954344</td>\n",
       "      <td>-1.076376</td>\n",
       "      <td>-1.265533</td>\n",
       "      <td>0.520456</td>\n",
       "      <td>0.052412</td>\n",
       "      <td>...</td>\n",
       "      <td>0.469061</td>\n",
       "      <td>1.192904</td>\n",
       "      <td>-0.163238</td>\n",
       "      <td>0.143244</td>\n",
       "      <td>-1.419508</td>\n",
       "      <td>-0.308454</td>\n",
       "      <td>1.834168</td>\n",
       "      <td>-0.059314</td>\n",
       "      <td>-0.041430</td>\n",
       "      <td>-0.832434</td>\n",
       "    </tr>\n",
       "  </tbody>\n",
       "</table>\n",
       "<p>5 rows × 66 columns</p>\n",
       "</div>"
      ],
      "text/plain": [
       "         0         1         2         3         4         5         6   \\\n",
       "0 -0.811939  0.110734  0.449351  0.476192  0.459512 -0.376119  0.353364   \n",
       "1 -0.806638 -0.015902 -0.037221  0.300948 -0.430587 -0.641422 -0.146184   \n",
       "2 -0.589281 -0.323446 -0.454284 -0.075504 -0.863821 -0.614212 -0.266764   \n",
       "3 -0.652898 -0.902351 -0.732325 -0.763502 -1.651519 -1.233252 -1.222795   \n",
       "4 -0.758925 -0.522444 -0.852389 -0.542823 -1.202531 -0.954344 -1.076376   \n",
       "\n",
       "         7         8         9   ...        56        57        58        59  \\\n",
       "0  0.045816 -1.366235  1.311278  ... -0.496838 -0.053573 -0.929236 -0.198702   \n",
       "1 -0.001298 -0.234221 -0.935857  ... -1.444850  0.168023  0.521519  0.409202   \n",
       "2  0.030111  0.143118 -1.688823  ... -1.874139  0.957459 -0.209662  1.321059   \n",
       "3 -0.935732  0.897794 -0.606434  ...  0.558496  0.818961 -0.453389 -0.008732   \n",
       "4 -1.265533  0.520456  0.052412  ...  0.469061  1.192904 -0.163238  0.143244   \n",
       "\n",
       "         60        61        62        63        64        65  \n",
       "0 -1.021761 -1.965713  0.201812 -1.113875 -0.478792 -0.832434  \n",
       "1 -0.801954  0.090127 -0.395164  0.540528 -1.678826 -0.832434  \n",
       "2 -0.163466 -0.266498 -1.495838  0.143858 -0.429995 -0.832434  \n",
       "3 -0.487943 -0.434322  0.882737 -0.514033 -0.502287 -0.832434  \n",
       "4 -1.419508 -0.308454  1.834168 -0.059314 -0.041430 -0.832434  \n",
       "\n",
       "[5 rows x 66 columns]"
      ]
     },
     "execution_count": 4,
     "metadata": {},
     "output_type": "execute_result"
    }
   ],
   "source": [
    "with open(\"data/processed/values.pickle\",\"rb\") as f:\n",
    "    value_df = pickle.load(f)\n",
    "\n",
    "test_items = value_df.columns.tolist()\n",
    "item_2_idx = {v: k for k, v in enumerate(test_items)}\n",
    "idx_2_item = {k: v for k, v in enumerate(test_items)}\n",
    "\n",
    "train_df, test_df = train_test_split(value_df, test_size=0.5, random_state=random_seed, shuffle=False)\n",
    "scaler = StandardScaler().fit(train_df)\n",
    "# scaled_train = pd.DataFrame(scaler.transform(train), columns=train.columns)\n",
    "# scaled_test = pd.DataFrame(scaler.transform(test), columns=test.columns)\n",
    "scaled_train_df = pd.DataFrame(scaler.transform(train_df))\n",
    "scaled_test_df = pd.DataFrame(scaler.transform(test_df))\n",
    "titles = scaled_train_df.columns.tolist()\n",
    "\n",
    "scaled_train_df.head()"
   ]
  },
  {
   "cell_type": "code",
   "execution_count": 5,
   "id": "03a5fff4",
   "metadata": {},
   "outputs": [],
   "source": [
    "class RfFinalTestDataset(Dataset):\n",
    "    def __init__(self, df:pd.DataFrame, input_nm:list, label_nm:list) -> None:\n",
    "        self.df = df\n",
    "        self.input_nm = input_nm\n",
    "        self.label_nm = label_nm\n",
    "\n",
    "    def __len__(self) -> int:\n",
    "        return self.df.shape[0]\n",
    "\n",
    "    def __getitem__(self, idx:int) -> tuple[np.array, np.array] :\n",
    "        inputs = self.df.loc[idx, self.input_nm].values\n",
    "        labels = self.df.loc[idx, self.label_nm].values\n",
    "        return inputs, labels"
   ]
  },
  {
   "cell_type": "code",
   "execution_count": 6,
   "id": "a4fa0150",
   "metadata": {},
   "outputs": [],
   "source": [
    "train_dataset = RfFinalTestDataset(scaled_train_df, titles[:10], titles[10:])\n",
    "test_dataset = RfFinalTestDataset(scaled_test_df, titles[:10], titles[10:])"
   ]
  },
  {
   "attachments": {},
   "cell_type": "markdown",
   "id": "6a3dfd11",
   "metadata": {},
   "source": [
    "## Build a prediction model"
   ]
  },
  {
   "cell_type": "markdown",
   "id": "b43ae57d",
   "metadata": {},
   "source": [
    "- Model"
   ]
  },
  {
   "cell_type": "code",
   "execution_count": 7,
   "id": "1a17a5e9",
   "metadata": {},
   "outputs": [
    {
     "name": "stdout",
     "output_type": "stream",
     "text": [
      "Using cuda device\n"
     ]
    }
   ],
   "source": [
    "device = 'cuda' if torch.cuda.is_available() else 'cpu'\n",
    "print('Using {} device'.format(device))"
   ]
  },
  {
   "cell_type": "code",
   "execution_count": 20,
   "id": "4ac37f0b",
   "metadata": {},
   "outputs": [],
   "source": [
    "class NeuralNetwork(nn.Module):\n",
    "    def __init__(self, in_num, out_num):\n",
    "        super(NeuralNetwork, self).__init__()\n",
    "        gap_by_step = int((in_num - out_num) / 2) # the num of hidden layer + 1\n",
    "        self.linear_relu_stack = nn.Sequential(\n",
    "            nn.Linear(in_num, in_num-gap_by_step),\n",
    "            nn.ReLU(),\n",
    "            nn.Linear(in_num-gap_by_step, in_num-gap_by_step*2),\n",
    "            nn.ReLU(),\n",
    "            nn.Linear(in_num-gap_by_step*2, out_num),\n",
    "            nn.ReLU()\n",
    "        )\n",
    "        \n",
    "    def forward(self, x):\n",
    "        logits = self.linear_relu_stack(x)\n",
    "        return logits"
   ]
  },
  {
   "cell_type": "code",
   "execution_count": 21,
   "id": "d561ca6c",
   "metadata": {},
   "outputs": [],
   "source": [
    "train_corr = scaled_train_df.corr()\n",
    "G = build_nx_graph(train_corr, titles)\n",
    "\n",
    "selected_nodes = radiorank(G, 0.1, \"value\")"
   ]
  },
  {
   "cell_type": "code",
   "execution_count": 22,
   "id": "506ffce6",
   "metadata": {},
   "outputs": [
    {
     "name": "stdout",
     "output_type": "stream",
     "text": [
      "NeuralNetwork(\n",
      "  (linear_relu_stack): Sequential(\n",
      "    (0): Linear(in_features=40, out_features=33, bias=True)\n",
      "    (1): ReLU()\n",
      "    (2): Linear(in_features=33, out_features=26, bias=True)\n",
      "    (3): ReLU()\n",
      "    (4): Linear(in_features=26, out_features=26, bias=True)\n",
      "    (5): ReLU()\n",
      "  )\n",
      ")\n"
     ]
    }
   ],
   "source": [
    "model = NeuralNetwork(len(selected_nodes[:40]), len(selected_nodes[40:])).to(device)\n",
    "print(model)"
   ]
  },
  {
   "cell_type": "code",
   "execution_count": 24,
   "id": "35bc776a",
   "metadata": {},
   "outputs": [],
   "source": [
    "train_dataloader = DataLoader(train_dataset, batch_size=100, shuffle=True)\n",
    "test_dataloader = DataLoader(test_dataset, batch_size=100, shuffle=True)"
   ]
  },
  {
   "cell_type": "code",
   "execution_count": 25,
   "id": "413056b9",
   "metadata": {},
   "outputs": [],
   "source": [
    "loss_fn = nn.MSELoss()\n",
    "learning_rate = 1e-3\n",
    "optimizer = torch.optim.SGD(model.parameters(), lr=learning_rate)"
   ]
  },
  {
   "cell_type": "code",
   "execution_count": null,
   "id": "1456b850",
   "metadata": {},
   "outputs": [],
   "source": []
  }
 ],
 "metadata": {
  "kernelspec": {
   "display_name": "graph",
   "language": "python",
   "name": "python3"
  },
  "language_info": {
   "codemirror_mode": {
    "name": "ipython",
    "version": 3
   },
   "file_extension": ".py",
   "mimetype": "text/x-python",
   "name": "python",
   "nbconvert_exporter": "python",
   "pygments_lexer": "ipython3",
   "version": "3.10.9"
  },
  "vscode": {
   "interpreter": {
    "hash": "149b880323cb511abb378ca8a7f1ace7211f133ce014a578336d1234f1f242ee"
   }
  }
 },
 "nbformat": 4,
 "nbformat_minor": 5
}
