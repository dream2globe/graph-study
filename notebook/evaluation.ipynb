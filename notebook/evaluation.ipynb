{
 "cells": [
  {
   "attachments": {},
   "cell_type": "markdown",
   "id": "0f5c937a",
   "metadata": {},
   "source": [
    "# EDA of MSE\n",
    "- Updated 2023.03.12\n",
    "- Written by shyeon"
   ]
  },
  {
   "attachments": {},
   "cell_type": "markdown",
   "id": "6adfdc48",
   "metadata": {},
   "source": [
    "### Preparing to run the code"
   ]
  },
  {
   "cell_type": "code",
   "execution_count": 2,
   "id": "cf150b98",
   "metadata": {},
   "outputs": [],
   "source": [
    "import os\n",
    "import pickle\n",
    "from pathlib import Path\n",
    "\n",
    "import matplotlib.pyplot as plt\n",
    "import numpy as np\n",
    "import pandas as pd\n",
    "import seaborn as sns\n",
    "\n",
    "curr_path = Path().absolute()\n",
    "os.chdir(curr_path.parent)  # change working directory to parent path\n"
   ]
  },
  {
   "attachments": {},
   "cell_type": "markdown",
   "id": "34d1ea95",
   "metadata": {},
   "source": [
    "### Loading a dataframe containing evaluations of prediction performance\n",
    "- value_df: (156232, 66)"
   ]
  },
  {
   "cell_type": "code",
   "execution_count": 19,
   "id": "a66b83c3",
   "metadata": {},
   "outputs": [],
   "source": [
    "with open(\"data/evaluation/mse_test.pickle\", \"rb\") as f:\n",
    "    mse_df = pickle.load(f)\n",
    "mse_df.to_csv(\"temp.csv\")\n"
   ]
  },
  {
   "cell_type": "code",
   "execution_count": 13,
   "id": "cc7c45c7",
   "metadata": {},
   "outputs": [
    {
     "data": {
      "text/html": [
       "<div>\n",
       "<style scoped>\n",
       "    .dataframe tbody tr th:only-of-type {\n",
       "        vertical-align: middle;\n",
       "    }\n",
       "\n",
       "    .dataframe tbody tr th {\n",
       "        vertical-align: top;\n",
       "    }\n",
       "\n",
       "    .dataframe thead th {\n",
       "        text-align: right;\n",
       "    }\n",
       "</style>\n",
       "<table border=\"1\" class=\"dataframe\">\n",
       "  <thead>\n",
       "    <tr style=\"text-align: right;\">\n",
       "      <th></th>\n",
       "      <th>y</th>\n",
       "      <th>mse</th>\n",
       "      <th>alpha</th>\n",
       "    </tr>\n",
       "  </thead>\n",
       "  <tbody>\n",
       "    <tr>\n",
       "      <th>0</th>\n",
       "      <td>1</td>\n",
       "      <td>4.884414e-07</td>\n",
       "      <td>0.1</td>\n",
       "    </tr>\n",
       "    <tr>\n",
       "      <th>1</th>\n",
       "      <td>22</td>\n",
       "      <td>1.193546e-01</td>\n",
       "      <td>0.1</td>\n",
       "    </tr>\n",
       "    <tr>\n",
       "      <th>2</th>\n",
       "      <td>63</td>\n",
       "      <td>5.537749e-02</td>\n",
       "      <td>0.1</td>\n",
       "    </tr>\n",
       "    <tr>\n",
       "      <th>3</th>\n",
       "      <td>0</td>\n",
       "      <td>1.421493e-05</td>\n",
       "      <td>0.1</td>\n",
       "    </tr>\n",
       "    <tr>\n",
       "      <th>4</th>\n",
       "      <td>51</td>\n",
       "      <td>3.539239e-02</td>\n",
       "      <td>0.1</td>\n",
       "    </tr>\n",
       "  </tbody>\n",
       "</table>\n",
       "</div>"
      ],
      "text/plain": [
       "    y           mse  alpha\n",
       "0   1  4.884414e-07    0.1\n",
       "1  22  1.193546e-01    0.1\n",
       "2  63  5.537749e-02    0.1\n",
       "3   0  1.421493e-05    0.1\n",
       "4  51  3.539239e-02    0.1"
      ]
     },
     "execution_count": 13,
     "metadata": {},
     "output_type": "execute_result"
    }
   ],
   "source": [
    "mse_df"
   ]
  },
  {
   "cell_type": "code",
   "execution_count": null,
   "id": "0aeb5961",
   "metadata": {},
   "outputs": [],
   "source": [
    "palette = sns.color_palette(\"rocket_r\")\n",
    "\n",
    "# Plot the lines on two facets\n",
    "sns.relplot(\n",
    "    data=mse_df,\n",
    "    x=\"num_xs\", y=\"mean\",\n",
    "    hue=\"coherence\", size=\"choice\", col=\"align\",\n",
    "    kind=\"line\", size_order=[\"T1\", \"T2\"], palette=palette,\n",
    "    height=5, aspect=.75, facet_kws=dict(sharex=False),\n",
    ")"
   ]
  },
  {
   "cell_type": "code",
   "execution_count": 17,
   "id": "1b6d58fd",
   "metadata": {},
   "outputs": [
    {
     "data": {
      "text/plain": [
       "[({2,\n",
       "   6,\n",
       "   8,\n",
       "   10,\n",
       "   11,\n",
       "   14,\n",
       "   17,\n",
       "   19,\n",
       "   23,\n",
       "   26,\n",
       "   35,\n",
       "   36,\n",
       "   37,\n",
       "   42,\n",
       "   43,\n",
       "   47,\n",
       "   50,\n",
       "   53,\n",
       "   60,\n",
       "   61,\n",
       "   64},\n",
       "  0.30436020849043766)]"
      ]
     },
     "execution_count": 17,
     "metadata": {},
     "output_type": "execute_result"
    }
   ],
   "source": [
    "with open(\"data/evaluation/cache_mse.pickle\", \"rb\") as f:\n",
    "    cache = pickle.load(f)\n",
    "cache[\"16_21\"]\n"
   ]
  },
  {
   "cell_type": "code",
   "execution_count": null,
   "id": "6038e389",
   "metadata": {},
   "outputs": [],
   "source": []
  }
 ],
 "metadata": {
  "kernelspec": {
   "display_name": "graph",
   "language": "python",
   "name": "python3"
  },
  "language_info": {
   "codemirror_mode": {
    "name": "ipython",
    "version": 3
   },
   "file_extension": ".py",
   "mimetype": "text/x-python",
   "name": "python",
   "nbconvert_exporter": "python",
   "pygments_lexer": "ipython3",
   "version": "3.10.9"
  },
  "vscode": {
   "interpreter": {
    "hash": "149b880323cb511abb378ca8a7f1ace7211f133ce014a578336d1234f1f242ee"
   }
  }
 },
 "nbformat": 4,
 "nbformat_minor": 5
}
