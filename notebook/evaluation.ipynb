{
 "cells": [
  {
   "attachments": {},
   "cell_type": "markdown",
   "id": "0f5c937a",
   "metadata": {},
   "source": [
    "# EDA of MSE\n",
    "- Updated 2023.03.11\n",
    "- Written by shyeon"
   ]
  },
  {
   "attachments": {},
   "cell_type": "markdown",
   "id": "6adfdc48",
   "metadata": {},
   "source": [
    "### Preparing to run the code"
   ]
  },
  {
   "cell_type": "code",
   "execution_count": 1,
   "id": "cf150b98",
   "metadata": {},
   "outputs": [],
   "source": [
    "import os\n",
    "from pathlib import Path\n",
    "\n",
    "import matplotlib.pyplot as plt\n",
    "import numpy as np\n",
    "import pandas as pd\n",
    "import seaborn as sns\n",
    "\n",
    "curr_path = Path().absolute()\n",
    "os.chdir(curr_path.parent)  # change working directory to parent path\n"
   ]
  },
  {
   "attachments": {},
   "cell_type": "markdown",
   "id": "34d1ea95",
   "metadata": {},
   "source": [
    "### Loading the dataset\n",
    "- value_df: (156232, 66)"
   ]
  }
 ],
 "metadata": {
  "kernelspec": {
   "display_name": "graph",
   "language": "python",
   "name": "python3"
  },
  "language_info": {
   "codemirror_mode": {
    "name": "ipython",
    "version": 3
   },
   "file_extension": ".py",
   "mimetype": "text/x-python",
   "name": "python",
   "nbconvert_exporter": "python",
   "pygments_lexer": "ipython3",
   "version": "3.10.9"
  },
  "vscode": {
   "interpreter": {
    "hash": "149b880323cb511abb378ca8a7f1ace7211f133ce014a578336d1234f1f242ee"
   }
  }
 },
 "nbformat": 4,
 "nbformat_minor": 5
}
